{
  "nbformat": 4,
  "nbformat_minor": 0,
  "metadata": {
    "colab": {
      "name": "Mathieu Equation.ipynb",
      "provenance": []
    },
    "kernelspec": {
      "name": "python3",
      "display_name": "Python 3"
    }
  },
  "cells": [
    {
      "cell_type": "code",
      "metadata": {
        "id": "ReP-RTB3yXB4",
        "colab_type": "code",
        "colab": {}
      },
      "source": [
        "import numpy as np\n",
        "import matplotlib.pyplot as plt\n"
      ],
      "execution_count": 24,
      "outputs": []
    },
    {
      "cell_type": "code",
      "metadata": {
        "id": "D0YSbDTPvJpJ",
        "colab_type": "code",
        "colab": {}
      },
      "source": [
        "def solver(**conf):\n",
        "  y_list = []\n",
        "  t = conf['t_0']\n",
        "  y_list.append([t,conf['y_0']])\n",
        "  y1p = conf['y`_0']\n",
        "  for i in range(int(conf['t_end']/conf['h'])):\n",
        "    #print(conf['t_end'])\n",
        "    y = y_list[-1][-1] + y1p * conf['h']\n",
        "    y_list.append([t,y])\n",
        "    y1p = y1p + ((-conf['omega']**2)/4 * y_list[-2][-1]*(conf['a_u']-2*conf['q_u']*np.cos(conf['omega']*t)))*conf['h']\n",
        "    t += conf['h']\n",
        "\n",
        "  return y_list\n"
      ],
      "execution_count": 100,
      "outputs": []
    },
    {
      "cell_type": "code",
      "metadata": {
        "id": "JfE8IhCwvFWv",
        "colab_type": "code",
        "colab": {}
      },
      "source": [
        ""
      ],
      "execution_count": 100,
      "outputs": []
    },
    {
      "cell_type": "code",
      "metadata": {
        "id": "7O5YoyTqvKPQ",
        "colab_type": "code",
        "colab": {}
      },
      "source": [
        "conf = {\n",
        "    'y_0' : 0,\n",
        "    'y`_0' : 1,\n",
        "    't_0' : 2,\n",
        "    'h' : 0.001,\n",
        "    't_end' : 500,\n",
        "    'omega':0.1,\n",
        "    'a_u':1,\n",
        "    'q_u':1,\n",
        "}"
      ],
      "execution_count": 128,
      "outputs": []
    },
    {
      "cell_type": "code",
      "metadata": {
        "id": "P92ZM4hzvwus",
        "colab_type": "code",
        "colab": {}
      },
      "source": [
        "result = np.array(solver(**conf))"
      ],
      "execution_count": 129,
      "outputs": []
    },
    {
      "cell_type": "code",
      "metadata": {
        "id": "MrZ91P_rvyjZ",
        "colab_type": "code",
        "colab": {
          "base_uri": "https://localhost:8080/",
          "height": 265
        },
        "outputId": "6c9f89b5-cbe2-40b2-db48-b3481cf1a14f"
      },
      "source": [
        "plt.plot(result[:,0], result[:,1])\n",
        "plt.grid('on')"
      ],
      "execution_count": 130,
      "outputs": [
        {
          "output_type": "display_data",
          "data": {
            "image/png": "[encoded data removed]",
            "text/plain": [
              "<Figure size 432x288 with 1 Axes>"
            ]
          },
          "metadata": {
            "tags": [],
            "needs_background": "light"
          }
        }
      ]
    },
    {
      "cell_type": "code",
      "metadata": {
        "id": "I5Ap6G-uxaED",
        "colab_type": "code",
        "colab": {}
      },
      "source": [
        ""
      ],
      "execution_count": 130,
      "outputs": []
    }
  ]
}